{
 "cells": [
  {
   "cell_type": "code",
   "execution_count": null,
   "metadata": {
    "collapsed": true
   },
   "outputs": [],
   "source": [
    "import pandas as pd"
   ]
  },
  {
   "cell_type": "code",
   "execution_count": null,
   "metadata": {
    "collapsed": false
   },
   "outputs": [],
   "source": [
    "col_names = [\"FILLER\",\"DOB_YY\",\"DOB_MM\",\n",
    "             \"FILLER\",\"DOB_TT\",\"DOB_WK\",\n",
    "             \"FILLER\",\"BFACIL\",\"F_FACILITY\",\n",
    "             \"FILLER\",\"BFACIL3\",\n",
    "             \"FILLER_B\",\"MAGE_IMPLFG\",\"MAGE_REPFLG\",\"MAGER\",\"MAGER14\",\"MAGER9\",\n",
    "             \"FILLER\",\"MBSTATE_REC\",\n",
    "             \"FILLER\",\"RESTATUS\",\n",
    "             \"FILLER\",\"MRACE31\",\"MRACE6\",\"MRACE15\",\"MBRACE\",\"MRACEIMP\",\n",
    "             \"FILLER\",\"MHISP_R\",\"FMHISP\",\"MRACEHISP\",\n",
    "             \"FILLER\",\"MAR_P\",\"DMAR\",\"MAR_IMP\",\n",
    "            \"FILLER\",\"F_MAR_P\",\"MEDUC\",\"FILLER\",\"F_MEDUC\",\n",
    "            \"FILLER_M\",\"FAGERPT_FLG\",\n",
    "            \"FILLER\",\"FAGECOMPB\",\"FAGREC11\",\"FRACE1\",\"FRACE6\",\"FRACE15\",\"FBRACE\",\n",
    "            \"FILLER\",\"FHISP_R\",\"F_HISP\",\"FRACEHISP\",\"FEDUC\",\n",
    "            \"FILLER\",\"FEDUC_FLAG\",\n",
    "             \"FILLER_F\",\"PRIORLIVE\",\"PRIORDEAD\",\"PRIORTERM\",\n",
    "             \"FILLER\",\"LBO_REC\",\n",
    "             \"FILLER\",\"TBO_REC\",\n",
    "             \"FILLER\",\"ILLB_R\",\"ILLB_R11\"\n",
    "             \"FILLER\",\"ILOP_R\",\"ILOP_R11\",\n",
    "             \"FILLER\",\"ILP_R\",\"ILP_R11\",\n",
    "             \"FILLER_P\",\"PRECARE\",\"FMPCB\",\"PRECARE5\",\n",
    "             \"FILLER\",\"PREVIS\",\n",
    "             \"FILLER\",\"PREVIS_REC\",\"FTPCV\",\n",
    "             \"FILLER\",\"WIC\",\"F_WIC\",\"CIG_0\",\"CIG_1\",\"CIG_2\",\"CIG_3\",\n",
    "             \"CIG0_R\",\"CIG_1_R\",\"CIG_2_R\",\"CIG_3_R\",\n",
    "             \"F_CIGS_0\",\"F_CIGS_1\",\"F_CIGS_2\",\"F_CIGS_3\",\"CIG_REC\",\n",
    "             \"F_TOBACCO\",\n",
    "             \"FILLER_F\"\n",
    "            ]\n",
    "             \n",
    "raw_15 = pd.read_fwf(\"data/Nat2015PublicUS.c20160517.r20160907.txt\",\n",
    "                     sep=\"\\t\",\n",
    "                    names=None)\n",
    "raw_15"
   ]
  },
  {
   "cell_type": "code",
   "execution_count": null,
   "metadata": {
    "collapsed": false
   },
   "outputs": [],
   "source": []
  },
  {
   "cell_type": "code",
   "execution_count": null,
   "metadata": {
    "collapsed": true
   },
   "outputs": [],
   "source": []
  }
 ],
 "metadata": {
  "kernelspec": {
   "display_name": "Python 2",
   "language": "python",
   "name": "python2"
  },
  "language_info": {
   "codemirror_mode": {
    "name": "ipython",
    "version": 2
   },
   "file_extension": ".py",
   "mimetype": "text/x-python",
   "name": "python",
   "nbconvert_exporter": "python",
   "pygments_lexer": "ipython2",
   "version": "2.7.11"
  }
 },
 "nbformat": 4,
 "nbformat_minor": 0
}
